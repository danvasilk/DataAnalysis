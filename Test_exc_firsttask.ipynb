{
 "cells": [
  {
   "cell_type": "code",
   "execution_count": null,
   "id": "834e0b6a-a944-49dc-8947-e2965e4c0db4",
   "metadata": {
    "tags": []
   },
   "outputs": [],
   "source": [
    "import pandas as pd\n",
    "\n",
    "\n",
    "def filter_const_clients(filtered_df):\n",
    "    filtered_df_1_5 = [filtered_df[(~filtered_df.iloc[:, 0].isna()) & (~filtered_df.iloc[:, 0:5].isna().any(axis=1))].agg('sum'),\n",
    "                       filtered_df[filtered_df.iloc[:, 0:1].isna().all(axis=1) & (~filtered_df.iloc[:, 1:5].isna().any(axis=1))].agg('sum'),\n",
    "                       filtered_df[(~filtered_df.iloc[:, 0].isna()) & (~filtered_df.iloc[:, 0:1].isna().any(axis=1)) & filtered_df.iloc[:, 1:2].isna().all(axis=1) & (~filtered_df.iloc[:, 2:5].isna().any(axis=1))].agg('sum'),\n",
    "                       filtered_df[(~filtered_df.iloc[:, 0].isna()) & (~filtered_df.iloc[:, 0:2].isna().any(axis=1)) & filtered_df.iloc[:, 2:3].isna().all(axis=1) & (~filtered_df.iloc[:, 3:5].isna().any(axis=1))].agg('sum'),\n",
    "                       filtered_df[(~filtered_df.iloc[:, 0].isna()) & (~filtered_df.iloc[:, 0:3].isna().any(axis=1)) & filtered_df.iloc[:, 3:4].isna().all(axis=1) & (~filtered_df.iloc[:, 4:5].isna().any(axis=1))].agg('sum')]\n",
    "    res = pd.DataFrame(filtered_df_1_5, index=[segments[\"Постоянные\"][i] for i in range(5)]).assign(total=lambda x: x[date_range[0]] + x[date_range[1]] + x[date_range[2]] + x[date_range[3]] + x[date_range[4]])\n",
    "    return res\n",
    "\n",
    "def filter_leaving_const_clients(filtered_df):\n",
    "    filtered_df_1 = [filtered_df[(~filtered_df.iloc[:, 0].isna()) & (~filtered_df.iloc[:, 0:4].isna().any(axis=1)) & filtered_df.iloc[:, 4:5].isna().all(axis=1)].agg('sum')]\n",
    "    res = pd.DataFrame(filtered_df_1, index=[segments[\"Уходящие постоянные\"][0]]).assign(total=lambda x: x[date_range[0]] + x[date_range[1]] + x[date_range[2]] + x[date_range[3]] + x[date_range[4]])\n",
    "    return res\n",
    "    \n",
    "def filter_irregular_clients(filtered_df):\n",
    "    filtered_df_1_16 = [filtered_df[filtered_df.iloc[:, 0:2].isna().all(axis=1) & (~filtered_df.iloc[:, 2:5].isna().any(axis=1))].agg('sum'),\n",
    "                        filtered_df[filtered_df.iloc[:, 0:1].isna().all(axis=1) & (~filtered_df.iloc[:, 1:2].isna().any(axis=1)) & filtered_df.iloc[:, 2:3].isna().all(axis=1) & (~filtered_df.iloc[:, 3:5].isna().any(axis=1))].agg('sum'),\n",
    "                        filtered_df[filtered_df.iloc[:, 0:1].isna().all(axis=1) & (~filtered_df.iloc[:, 1:3].isna().any(axis=1)) & filtered_df.iloc[:, 3:4].isna().all(axis=1) & (~filtered_df.iloc[:, 4:5].isna().any(axis=1))].agg('sum'),\n",
    "                        filtered_df[(~filtered_df.iloc[:, 0].isna()) & filtered_df.iloc[:, 1:2].isna().all(axis=1) & (~filtered_df.iloc[:, 2:3].isna().any(axis=1)) & filtered_df.iloc[:, 3:4].isna().all(axis=1) & (~filtered_df.iloc[:, 4:5].isna().any(axis=1))].agg('sum'),\n",
    "                        filtered_df[(~filtered_df.iloc[:, 0].isna()) & filtered_df.iloc[:, 2:4].isna().all(axis=1) & (~filtered_df.iloc[:, 4:5].isna().any(axis=1))].agg('sum'),\n",
    "                        filtered_df[filtered_df.iloc[:, 0:3].isna().all(axis=1) & (~filtered_df.iloc[:, 3:5].isna().any(axis=1))].agg('sum'),\n",
    "                        filtered_df[(~filtered_df.iloc[:, 0].isna()) & filtered_df.iloc[:, 1:4].isna().all(axis=1) & (~filtered_df.iloc[:, 4:5].isna().any(axis=1))].agg('sum'),\n",
    "                        filtered_df[filtered_df.iloc[:, 0:1].isna().all(axis=1) & (~filtered_df.iloc[:, 1:2].isna().any(axis=1)) & filtered_df.iloc[:, 2:4].isna().all(axis=1) & (~filtered_df.iloc[:, 4:5].isna().any(axis=1))].agg('sum'),\n",
    "                        filtered_df[filtered_df.iloc[:, 0:2].isna().all(axis=1) & (~filtered_df.iloc[:, 2:3].isna().any(axis=1)) & filtered_df.iloc[:, 3:4].isna().all(axis=1) & (~filtered_df.iloc[:, 4:5].isna().any(axis=1))].agg('sum'),\n",
    "                        filtered_df[(~filtered_df.iloc[:, 0].isna()) & filtered_df.iloc[:, 1:3].isna().all(axis=1) & (~filtered_df.iloc[:, 3:5].isna().any(axis=1))].agg('sum'),\n",
    "                        filtered_df[filtered_df.iloc[:, 0:1].isna().all(axis=1) & (~filtered_df.iloc[:, 1:4].isna().any(axis=1)) & filtered_df.iloc[:, 4:5].isna().all(axis=1)].agg('sum'),\n",
    "                        filtered_df[(~filtered_df.iloc[:, 0].isna()) & filtered_df.iloc[:, 1:2].isna().all(axis=1) & (~filtered_df.iloc[:, 2:4].isna().any(axis=1)) & filtered_df.iloc[:, 4:5].isna().all(axis=1)].agg('sum'),\n",
    "                        filtered_df[(~filtered_df.iloc[:, 0].isna()) & filtered_df.iloc[:, 2:3].isna().all(axis=1) & (~filtered_df.iloc[:, 3:4].isna().any(axis=1)) & filtered_df.iloc[:, 4:5].isna().all(axis=1)].agg('sum'),\n",
    "                        filtered_df[filtered_df.iloc[:, 0:2].isna().all(axis=1) & (~filtered_df.iloc[:, 2:4].isna().any(axis=1)) & filtered_df.iloc[:, 4:5].isna().all(axis=1)].agg('sum'),\n",
    "                        filtered_df[(~filtered_df.iloc[:, 0].isna()) & filtered_df.iloc[:, 1:3].isna().all(axis=1) & (~filtered_df.iloc[:, 3:4].isna().any(axis=1)) & filtered_df.iloc[:, 4:5].isna().all(axis=1)].agg('sum'),\n",
    "                        filtered_df[filtered_df.iloc[:, 0:1].isna().all(axis=1) & (~filtered_df.iloc[:, 1:2].isna().any(axis=1)) & filtered_df.iloc[:, 2:3].isna().all(axis=1) & (~filtered_df.iloc[:, 3:4].isna().any(axis=1)) & filtered_df.iloc[:, 4:5].isna().all(axis=1)].agg('sum')\n",
    "                       ]\n",
    "    res = pd.DataFrame(filtered_df_1_16, index=[segments[\"Нерегулярные\"][i] for i in range(len(filtered_df_1_16))]).assign(total=lambda x: x[date_range[0]] + x[date_range[1]] + x[date_range[2]] + x[date_range[3]] + x[date_range[4]])\n",
    "    return res\n",
    "\n",
    "def filter_leaving_clients(filtered_df):\n",
    "    filtered_df_3 = [filtered_df[(~filtered_df.iloc[:, 0].isna()) & filtered_df.iloc[:, 3:5].isna().all(axis=1)].agg('sum'),\n",
    "                     filtered_df[(~filtered_df.iloc[:, 0].isna()) & filtered_df.iloc[:, 1:2].isna().all(axis=1) & (~filtered_df.iloc[:, 2:3].isna().any(axis=1)) & filtered_df.iloc[:, 3:5].isna().all(axis=1)].agg('sum'),\n",
    "                     filtered_df[filtered_df.iloc[:, 0:1].isna().all(axis=1) & (~filtered_df.iloc[:, 1:3].isna().any(axis=1)) & filtered_df.iloc[:, 3:5].isna().all(axis=1)].agg('sum')]\n",
    "    res = pd.DataFrame(filtered_df_3, index=[segments[\"Уходящие\"][i] for i in range(len(filtered_df_3))]).assign(total=lambda x: x[date_range[0]] + x[date_range[1]] + x[date_range[2]] + x[date_range[3]] + x[date_range[4]])\n",
    "    return res\n",
    "\n",
    "def filter_once_clients(filtered_df):\n",
    "    filtered_df_2 = [filtered_df[filtered_df.iloc[:, 0:3].isna().all(axis=1) & (~filtered_df.iloc[:, 3:4].isna().any(axis=1)) & filtered_df.iloc[:, 4:5].isna().all(axis=1)].agg('sum'),\n",
    "                     filtered_df[filtered_df.iloc[:, 0:2].isna().all(axis=1) & (~filtered_df.iloc[:, 2:3].isna().any(axis=1)) & filtered_df.iloc[:, 3:5].isna().all(axis=1)].agg('sum'),]\n",
    "    res = pd.DataFrame(filtered_df_2, index=[segments[\"Разовые\"][i] for i in range(len(filtered_df_2))]).assign(total=lambda x: x[date_range[0]] + x[date_range[1]] + x[date_range[2]] + x[date_range[3]] + x[date_range[4]])\n",
    "    return res\n",
    "\n",
    "def filter_outflow_clients(filtered_df):\n",
    "    filtered_df_2 = [filtered_df[(~filtered_df.iloc[:, 0].isna()) & filtered_df.iloc[:, 2:5].isna().all(axis=1)].agg('sum'),\n",
    "                     filtered_df[filtered_df.iloc[:, 0:1].isna().all(axis=1) & (~filtered_df.iloc[:, 1:2].isna().any(axis=1)) & filtered_df.iloc[:, 2:5].isna().all(axis=1)].agg('sum')]\n",
    "    res = pd.DataFrame(filtered_df_2, index=[segments[\"Отток\"][i] for i in range(len(filtered_df_2))]).assign(total=lambda x: x[date_range[0]] + x[date_range[1]] + x[date_range[2]] + x[date_range[3]] + x[date_range[4]])\n",
    "    return res\n",
    "\n",
    "def filter_losted_clients(filtered_df):\n",
    "    filtered_df_1 = [filtered_df[(~filtered_df.iloc[:, 0].isna()) & filtered_df.iloc[:, 1:5].isna().all(axis=1)].agg('sum')]\n",
    "    res = pd.DataFrame(filtered_df_1, index=[segments[\"Потерянные\"][0]]).assign(total=lambda x: x[date_range[0]] + x[date_range[1]] + x[date_range[2]] + x[date_range[3]] + x[date_range[4]])\n",
    "    return res\n",
    "\n",
    "def filter_inactive_clients(filtered_df):\n",
    "    filtered_df_1 = [filtered_df[filtered_df.iloc[:, 0:5].isna().all(axis=1)].agg('sum')]\n",
    "    res = pd.DataFrame(filtered_df_1, index=[segments[\"Неактивные\"][0]]).assign(total=lambda x: x[date_range[0]] + x[date_range[1]] + x[date_range[2]] + x[date_range[3]] + x[date_range[4]])\n",
    "    return res\n",
    "\n",
    "def filter_new_returned_clients(filtered_df):\n",
    "    filtered_df_1 = [filtered_df[filtered_df.iloc[:, 0:4].isna().all(axis=1) & (~filtered_df.iloc[:, 4:5].isna().any(axis=1))].agg('sum')]\n",
    "    res = pd.DataFrame(filtered_df_1, index=[segments[\"Новые/возвращенные\"][0]]).assign(total=lambda x: x[date_range[0]] + x[date_range[1]] + x[date_range[2]] + x[date_range[3]] + x[date_range[4]])\n",
    "    return res\n",
    "\n",
    "df = pd.read_excel('data.xlsb', sheet_name='data', engine='pyxlsb')\n",
    "df['date'] = (pd.to_datetime(\"1899-12-30 00:00:00\", yearfirst=True)+pd.to_timedelta(df[\"yyyy_mm\"], unit=\"D\"))\n",
    "\n",
    "dates = {'01 2022': ['2022-01-01', '2022-01-01'], '02 2022': ['2022-01-01', '2022-02-01'], '03 2022': ['2022-01-01', '2022-03-01'], \n",
    "         '04 2022': ['2022-01-01', '2022-04-01'], '05 2022': ['2022-01-01', '2022-05-01'], '06 2022': ['2022-02-01', '2022-06-01'],\n",
    "         '07 2022': ['2022-03-01', '2022-07-01'], '08 2022': ['2022-04-01', '2022-08-01'], '09 2022': ['2022-05-01', '2022-09-01'], \n",
    "         '10 2022': ['2022-06-01', '2022-10-01'], '11 2022': ['2022-07-01', '2022-11-01'], '12 2022': ['2022-08-01', '2022-12-01'],\n",
    "         '01 2023': ['2022-09-01', '2023-01-01'], '02 2023': ['2022-10-01', '2023-02-01'], '03 2023': ['2022-11-01', '2023-03-01'], \n",
    "         '04 2023': ['2022-12-01', '2023-04-01'], '05 2023': ['2023-01-01', '2023-05-01'], '06 2023': ['2023-02-01', '2023-06-01'],\n",
    "         '07 2023': ['2023-03-01', '2023-07-01'], '08 2023': ['2023-04-01', '2023-08-01'], '09 2023': ['2023-05-01', '2023-09-01'], \n",
    "         '10 2023': ['2023-06-01', '2023-10-01'], '11 2023': ['2023-07-01', '2023-11-01'], '12 2023': ['2023-08-01', '2023-12-01'], \n",
    "         '01 2024': ['2023-09-01', '2024-01-01'], '02 2024': ['2023-10-01', '2024-02-01'], '03 2024': ['2023-11-01', '2024-03-01']}\n",
    "segments = {\"Постоянные\": ['XXXXX', 'OXXXX', 'XOXXX', 'XXOXX', 'XXXOX'], \n",
    "            \"Уходящие постоянные\": ['XXXXO'],\n",
    "            \"Нерегулярные\": ['OOXXX', 'OXOXX', 'OXXOX', 'XOXOX', 'XXOOX', 'OOOXX', 'XOOOX', 'OXOOX', 'OOXOX', 'XOOXX', 'OXXXO',\n",
    "                             'XOXXO', 'XXOXO', 'OOXXO', 'XOOXO', 'OXOXO'],\n",
    "            \"Уходящие\": ['XXXOO', 'XOXOO', 'OXXOO'],\n",
    "            \"Разовые\": ['OOOXO', 'OOXOO'],\n",
    "            \"Отток\": ['XXOOO', 'OXOOO'],\n",
    "            \"Потерянные\": ['XOOOO'],\n",
    "            \"Новые/возвращенные\": ['OOOOX'],\n",
    "            \"Неактивные\": ['OOOOO']}\n",
    "\n",
    "request = input()\n",
    "try:\n",
    "    start_period = dates[request][0]\n",
    "    end_period = dates[request][1]\n",
    "except KeyError:\n",
    "    print(\"Данные за этот расчетный период отсутствуют\")\n",
    "date_range = pd.date_range(start=start_period, end=end_period, freq=\"MS\")\n",
    "df_period = df[df['date'].isin(date_range)]\n",
    "filtered_df = df_period.pivot_table(columns='date', index='id_клиента', values='Объем')"
   ]
  },
  {
   "cell_type": "code",
   "execution_count": null,
   "id": "1cf57c6c-d63d-416e-81bd-fc9e2e1bfe1b",
   "metadata": {
    "tags": []
   },
   "outputs": [],
   "source": [
    "print(f'Отчетный месяц: {end_period[:-3]}\\nГруппа: Постоянные')\n",
    "filter_const_clients(filtered_df)"
   ]
  },
  {
   "cell_type": "code",
   "execution_count": null,
   "id": "359f316f-0c65-4c46-9922-519bdc6f8497",
   "metadata": {},
   "outputs": [],
   "source": [
    "print(f'Отчетный месяц: {end_period[:-3]}\\nГруппа: Уходящие постоянные')\n",
    "filter_leaving_const_clients(filtered_df)"
   ]
  },
  {
   "cell_type": "code",
   "execution_count": null,
   "id": "95e3b043-841b-405a-b688-1335d661cdf3",
   "metadata": {
    "tags": []
   },
   "outputs": [],
   "source": [
    "print(f'Отчетный месяц: {end_period[:-3]}\\nГруппа: Нерегулярные')\n",
    "filter_irregular_clients(filtered_df)"
   ]
  },
  {
   "cell_type": "code",
   "execution_count": null,
   "id": "68c6037d-604e-4879-b300-af7738ef51c6",
   "metadata": {
    "tags": []
   },
   "outputs": [],
   "source": [
    "print(f'Отчетный месяц: {end_period[:-3]}\\nГруппа: Уходящие')\n",
    "filter_leaving_clients(filtered_df)"
   ]
  },
  {
   "cell_type": "code",
   "execution_count": null,
   "id": "4f6b9563-2b4a-4154-acfc-8934dda88471",
   "metadata": {
    "tags": []
   },
   "outputs": [],
   "source": [
    "print(f'Отчетный месяц: {end_period[:-3]}\\nГруппа: Разовые')\n",
    "filter_once_clients(filtered_df)"
   ]
  },
  {
   "cell_type": "code",
   "execution_count": null,
   "id": "6315f693-2559-43ca-a782-042b0a0ce92b",
   "metadata": {
    "tags": []
   },
   "outputs": [],
   "source": [
    "print(f'Отчетный месяц: {end_period[:-3]}\\nГруппа: Отток')\n",
    "filter_outflow_clients(filtered_df)"
   ]
  },
  {
   "cell_type": "code",
   "execution_count": null,
   "id": "8ef6b926-12ab-4ddb-a726-36d42185a347",
   "metadata": {
    "tags": []
   },
   "outputs": [],
   "source": [
    "print(f'Отчетный месяц: {end_period[:-3]}\\nГруппа: Потерянные')\n",
    "filter_losted_clients(filtered_df)"
   ]
  },
  {
   "cell_type": "code",
   "execution_count": null,
   "id": "ccf9bc38-ae4f-430d-adf9-03b2ab9b3ae2",
   "metadata": {
    "tags": []
   },
   "outputs": [],
   "source": [
    "print(f'Отчетный месяц: {end_period[:-3]}\\nГруппа: Неактивные')\n",
    "filter_inactive_clients(filtered_df)"
   ]
  },
  {
   "cell_type": "code",
   "execution_count": null,
   "id": "3fae217d-b5c3-4204-a12c-559383e98dbb",
   "metadata": {
    "tags": []
   },
   "outputs": [],
   "source": [
    "print(f'Отчетный месяц: {end_period[:-3]}\\nГруппа: Новые/возвращенные')\n",
    "filter_new_returned_clients(filtered_df)"
   ]
  }
 ],
 "metadata": {
  "kernelspec": {
   "display_name": "Python 3 (ipykernel)",
   "language": "python",
   "name": "python3"
  },
  "language_info": {
   "codemirror_mode": {
    "name": "ipython",
    "version": 3
   },
   "file_extension": ".py",
   "mimetype": "text/x-python",
   "name": "python",
   "nbconvert_exporter": "python",
   "pygments_lexer": "ipython3",
   "version": "3.11.5"
  }
 },
 "nbformat": 4,
 "nbformat_minor": 5
}
